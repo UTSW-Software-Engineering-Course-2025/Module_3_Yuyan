{
 "cells": [
  {
   "cell_type": "markdown",
   "id": "59a8b93f",
   "metadata": {
    "tags": [
     "skip"
    ]
   },
   "source": [
    "# Starter Notebook for GeneTuring Few-shot Evaluation"
   ]
  },
  {
   "cell_type": "markdown",
   "id": "7260d323",
   "metadata": {
    "tags": [
     "skip"
    ]
   },
   "source": [
    "Let's start of by implementing a basic harness to evaluate the Geneturing dataset using Ollama with a Few-Shot prompting strategy to evaluate the performance of these models before implementing the tool-using strategies outlined in the GeneGPT paper.\n",
    "\n",
    "As with most benchmarking code using pretrained models, our notebook will following typical outline of:\n",
    "\n",
    "1. **Imports**\n",
    "2. **Configuration**\n",
    "3. **Data Loading**\n",
    "4. **Model Specification**\n",
    "5. **Metrics**\n",
    "6. **Evaluation Loop**\n",
    "7. **Analysis**"
   ]
  },
  {
   "cell_type": "markdown",
   "id": "19ecb4f5",
   "metadata": {},
   "source": [
    "## 1. Imports"
   ]
  },
  {
   "cell_type": "markdown",
   "id": "6db83b1e",
   "metadata": {
    "tags": [
     "skip"
    ]
   },
   "source": [
    "Good hygiene for Jupyter notebooks includes placing all of the imports at the top of the notebook. This makes it easier to understand what dependencies are needed to run the notebook for new users and mirrors good practices for Python scripts."
   ]
  },
  {
   "cell_type": "code",
   "execution_count": 5,
   "id": "fb9107c5",
   "metadata": {},
   "outputs": [],
   "source": [
    "# 1.1 Place imports here\n",
    "from typing import List, Optional\n",
    "\n",
    "from collections import defaultdict\n",
    "from dataclasses import dataclass\n",
    "import os\n",
    "from openai import AzureOpenAI\n",
    "import json\n",
    "import pandas as pd\n",
    "from tqdm import tqdm\n",
    "from typing import List, Callable"
   ]
  },
  {
   "cell_type": "markdown",
   "id": "26c15925",
   "metadata": {},
   "source": [
    "## 2. Configuration"
   ]
  },
  {
   "cell_type": "markdown",
   "id": "22cf9042",
   "metadata": {
    "tags": [
     "skip"
    ]
   },
   "source": [
    "Also, let's create a section that is specific to the configuration of the run. This will make it easier to change the configuration of the run without hunting for hard-coded values sprinkled throughout the code and makes it easier for others to understand the configuration of the run.\n",
    "\n",
    "We will leave it empty at the moment, but we will come back and fill it in as we identify global configuration options that we need to implement the code."
   ]
  },
  {
   "cell_type": "code",
   "execution_count": 2,
   "id": "71d543d4",
   "metadata": {},
   "outputs": [],
   "source": [
    "# 2.1 Data Configuration\n"
   ]
  },
  {
   "cell_type": "code",
   "execution_count": 3,
   "id": "82e42308",
   "metadata": {},
   "outputs": [],
   "source": [
    "# 2.2 Model Configuration"
   ]
  },
  {
   "cell_type": "code",
   "execution_count": 6,
   "id": "1ac0d904",
   "metadata": {},
   "outputs": [],
   "source": [
    "# 2.3 Evaluation and Logging Configuration\n",
    "AZURE_OPENAI_KEY=\"FJ5GrEV5LG3Y0UIeac29BIhmVu8GPcmWyeTTFH0cBifgT7T68XHPJQQJ99BEACHYHv6XJ3w3AAAAACOGdwHb\"\n",
    "AZURE_OPENAI_ENDPOINT=\"https://michaelholcomb-5866-resource.cognitiveservices.azure.com/\"\n",
    "AZURE_OPENAI_DEPLOYMENT_NAME=\"gpt-4.1\"\n",
    "AZURE_OPENAI_API_VERSION=\"2024-03-01-preview\""
   ]
  },
  {
   "cell_type": "markdown",
   "id": "c1904443",
   "metadata": {},
   "source": [
    "## 3. Data Loading"
   ]
  },
  {
   "cell_type": "markdown",
   "id": "f48d7a1f",
   "metadata": {
    "tags": [
     "skip"
    ]
   },
   "source": [
    "In this section we need to load the data that we will be using for our evaluation. \n",
    "\n",
    "The JSON file at `data/gene_turing.json` contains a dictionary of dictionaries. At the top level, the keys are the names of the tasks. Within each task, there are several key-value pairs where the keys are the questions and the values are the answers.\n",
    "\n",
    "Below is one example for each of the 9 tasks in the dataset:\n",
    "\n",
    "```json\n",
    "{\n",
    "    \"Gene alias\": {\n",
    "        \"What is the official gene symbol of LMP10?\": \"PSMB10\"\n",
    "    },\n",
    "    \"Gene disease association\": {\n",
    "        \"What are genes related to Hemolytic anemia due to phosphofructokinase deficiency?\": \"PFKL\"\n",
    "    },\n",
    "    \"Gene location\": {\n",
    "        \"Which chromosome is FAM66D gene located on human genome?\": \"chr8\"\n",
    "    },\n",
    "    \"Human genome DNA aligment\": {\n",
    "        \"Align the DNA sequence to the human genome:ATTCTGCCTTTAGTAATTTGATGACAGAGACTTCTTGGGAACCACAGCCAGGGAGCCACCCTTTACTCCACCAACAGGTGGCTTATATCCAATCTGAGAAAGAAAGAAAAAAAAAAAAGTATTTCTCT\": \"chr15:91950805-91950932\",\n",
    "    },\n",
    "    \"Multi-species DNA aligment\": {\n",
    "        \"Which organism does the DNA sequence come from:AGGGGCAGCAAACACCGGGACACACCCATTCGTGCACTAATCAGAAACTTTTTTTTCTCAAATAATTCAAACAATCAAAATTGGTTTTTTCGAGCAAGGTGGGAAATTTTTCGAT\": \"worm\",\n",
    "    },\n",
    "    \"Gene name conversion\": {\n",
    "        \"Convert ENSG00000215251 to official gene symbol.\": \"FASTKD5\",\n",
    "    },\n",
    "    \"Protein-coding genes\": {\n",
    "        \"Is ATP5F1EP2 a protein-coding gene?\": \"NA\",\n",
    "    },\n",
    "    \"Gene SNP association\": {\n",
    "        \"Which gene is SNP rs1217074595 associated with?\": \"LINC01270\",\n",
    "    },\n",
    "    \"SNP location\": {\n",
    "        \"Which chromosome does SNP rs1430464868 locate on human genome?\": \"chr13\",\n",
    "    }\n",
    "}\n",
    "```"
   ]
  },
  {
   "cell_type": "markdown",
   "id": "b61e217f",
   "metadata": {
    "tags": [
     "skip"
    ]
   },
   "source": [
    "\n",
    "We need to reformat this into a pandas dataframe with the following columns:\n",
    "- `id`: A serial ID number we will assign to each example (int)\n",
    "- `task`: The name of the task (str)\n",
    "- `question`: The question for the example (str)\n",
    "- `answer`: The answer for the example (str)\n",
    "\n",
    "The final dataframe we will create should look like this:\n",
    "\n",
    "| id | task | question | answer |\n",
    "|----|------|----------|--------|\n",
    "| 0 | Task1 | Question1 | Answer1 |\n",
    "| 1 | Task1 | Question2 | Answer2 |\n",
    "| 2 | Task2 | Question1 | Answer1 |\n",
    "| 3 | Task2 | Question2 | Answer2 |"
   ]
  },
  {
   "cell_type": "code",
   "execution_count": 7,
   "id": "2c2b9c4a",
   "metadata": {},
   "outputs": [],
   "source": [
    "# 3.1 Load the JSON file\n",
    "\n",
    "\n",
    "with open(\"./data/geneturing.json\", \"r\") as f:\n",
    "    data = json.load(f)\n",
    "# Load the data here\n",
    "\n",
    "# Build the TASKS variable here\n",
    "\n",
    "TASKS = set(data) "
   ]
  },
  {
   "cell_type": "code",
   "execution_count": 8,
   "id": "b86a25af-73d4-42d5-b17d-6435943a2ee7",
   "metadata": {},
   "outputs": [
    {
     "data": {
      "text/plain": [
       "{'Gene SNP association',\n",
       " 'Gene alias',\n",
       " 'Gene disease association',\n",
       " 'Gene location',\n",
       " 'Gene name conversion',\n",
       " 'Human genome DNA aligment',\n",
       " 'Multi-species DNA aligment',\n",
       " 'Protein-coding genes',\n",
       " 'SNP location'}"
      ]
     },
     "execution_count": 8,
     "metadata": {},
     "output_type": "execute_result"
    }
   ],
   "source": [
    "TASKS"
   ]
  },
  {
   "cell_type": "code",
   "execution_count": 9,
   "id": "fe9a5062",
   "metadata": {},
   "outputs": [
    {
     "name": "stdout",
     "output_type": "stream",
     "text": [
      "{'task': 'Gene alias', 'question': 'What is the official gene symbol of LMP10?', 'answer': 'PSMB10'}\n",
      "{'task': 'Gene alias', 'question': 'What is the official gene symbol of SNAT6?', 'answer': 'SLC38A6'}\n",
      "{'task': 'Gene alias', 'question': 'What is the official gene symbol of IMD20?', 'answer': 'FCGR3A'}\n"
     ]
    }
   ],
   "source": [
    "# 3.2 Iterate through the JSON data recursively to collect each of the rows into a list\n",
    "#     Each row should have a dictionary with keys of the columsn in the table above\n",
    "rows = []\n",
    "\n",
    "# Recursively iterate through each task and its Q&A pairs\n",
    "for task, qas in data.items():\n",
    "    for question, answer in qas.items():\n",
    "        rows.append({\n",
    "            \"task\": task,\n",
    "            \"question\": question,\n",
    "            \"answer\": answer\n",
    "        })\n",
    "\n",
    "# Preview first 3 rows\n",
    "for row in rows[:3]:\n",
    "    print(row)"
   ]
  },
  {
   "cell_type": "code",
   "execution_count": 10,
   "id": "7bdff6ef",
   "metadata": {},
   "outputs": [],
   "source": [
    "# 3.3 Create the pandas dataframe from the collection of rows\n",
    "\n",
    "df = pd.DataFrame(rows)"
   ]
  },
  {
   "cell_type": "markdown",
   "id": "f5f330e0",
   "metadata": {},
   "source": [
    "## 4. Model Specification"
   ]
  },
  {
   "cell_type": "markdown",
   "id": "fc0dff55",
   "metadata": {
    "tags": [
     "skip"
    ]
   },
   "source": [
    "With our few-shot in-context learning model, we need to specify four components:\n",
    "\n",
    "1. The large language model to use\n",
    "2. The instructions for the model as a system prompt\n",
    "3. The few-shot examples to provide to the model to demonstrate the input-output format\n",
    "4. The completion request function that puts it all together retrieving a response for each unseen input"
   ]
  },
  {
   "cell_type": "markdown",
   "id": "bd5a9f18",
   "metadata": {},
   "source": [
    "### 4.1 Setting up the large language model"
   ]
  },
  {
   "cell_type": "markdown",
   "id": "089f0a94",
   "metadata": {
    "tags": [
     "skip"
    ]
   },
   "source": [
    "We will use the Ollama client to interface with the large language model on the Ollama server we started. With large language models, it is common to use a client library to interface with the model hosted by a server. This allows us to iterate quickly on the prompting and post-processing logic without having to incur the overhead of loading the model into memory each time.  Additionally, model code is oftentimes optimized for inference."
   ]
  },
  {
   "cell_type": "code",
   "execution_count": 11,
   "id": "e045007a",
   "metadata": {},
   "outputs": [],
   "source": [
    "# 4.1 Setting up the large language model Ollama model client\n",
    "client = AzureOpenAI(\n",
    "    api_version=AZURE_OPENAI_API_VERSION,\n",
    "    azure_endpoint=AZURE_OPENAI_ENDPOINT,\n",
    "    api_key=AZURE_OPENAI_KEY,\n",
    ")\n"
   ]
  },
  {
   "cell_type": "markdown",
   "id": "8caf45c9",
   "metadata": {},
   "source": [
    "### 4.2 Setting up the system prompt"
   ]
  },
  {
   "cell_type": "markdown",
   "id": "8e46af38",
   "metadata": {
    "tags": [
     "skip"
    ]
   },
   "source": [
    "Modern large language models are post-trained to perform a variety of tasks and follow instructions. To leverage this capability, we need to provide a system prompt that clearly outlines the task, any constraints, and the format of the output."
   ]
  },
  {
   "cell_type": "markdown",
   "id": "c29bf3d5",
   "metadata": {
    "tags": [
     "skip"
    ]
   },
   "source": [
    "Designing the system prompt is a critical aspect of using LLMs. Below are several resources for designing a system prompt:\n",
    "* [OpenAI Prompt Engineering](https://platform.openai.com/docs/guides/text?api-mode=responses#prompt-engineering)\n",
    "* [Kaggle/Google Prompt Engineering](https://www.kaggle.com/whitepaper-prompt-engineering?_bhlid=a2bfce2cac67662098bd85a241e7cb000576e5d4)\n",
    "* [Anthropic Prompt Engineering](https://docs.anthropic.com/en/docs/build-with-claude/prompt-engineering/overview)\n",
    "* [OpenAI GPT 4.1 Prompting Cookbook](https://cookbook.openai.com/examples/gpt4-1_prompting_guide)\n"
   ]
  },
  {
   "cell_type": "markdown",
   "id": "6887a248",
   "metadata": {
    "tags": [
     "skip"
    ]
   },
   "source": [
    "**From the OpenAI Prompt Engineering guide:**\n",
    "\n",
    "> **Identity**: Describe the purpose, communication style, and high-level goals of the assistant. \n",
    "> \n",
    "> **Instructions**: Provide guidance to the model on how to generate the response you want. What rules should it follow? What should the model do, and what should the model never do? This section could contain many subsections as relevant for your use case, like how the model should call custom functions.  \n",
    ">\n",
    "> **Examples**: Provide examples of possible inputs, along with the desired output from the model.  \n",
    "> \n",
    "> **Context**: Give the model any additional information it might need to generate a response, like private/proprietary data outside its training data, or any other data you know will be particularly relevant. This content is usually best positioned near the end of your prompt, as you may include different context for different generation requests.  "
   ]
  },
  {
   "cell_type": "markdown",
   "id": "fcebc861",
   "metadata": {
    "tags": [
     "skip"
    ]
   },
   "source": [
    "This is what the system prompt looked like in the originalGeneGPT paper, but it is not the best. Identify what it includes and what is missing. Implement your own system prompt incorporating best practices from some of the guides posted above. \n",
    "\n",
    "> \t'Hello. Your task is to use NCBI Web APIs to answer genomic questions.'"
   ]
  },
  {
   "cell_type": "code",
   "execution_count": 23,
   "id": "1d73bcd5",
   "metadata": {},
   "outputs": [],
   "source": [
    "# 4.2 Draft your own system prompt for our generic genomics question answering system. \n",
    "#     Replace the system message `content` below with your own.\n",
    "system_message = [\n",
    "    {\n",
    "        \"role\": \"system\",\n",
    "        \"content\": \"Hello. Your task is to use NCBI Web APIs to answer genomic questions.Please only answer the question concisely and don't generate to many other stuff. If you can specify the answer, please put it after word Answer. If you are not sure about the answer, please try to be concise and give a brief guess based on the NCBI results.\"\n",
    "    }\n",
    "]"
   ]
  },
  {
   "cell_type": "markdown",
   "id": "bcb0bf3f",
   "metadata": {},
   "source": [
    "### 4.3 Setting up the few-shot examples"
   ]
  },
  {
   "cell_type": "markdown",
   "id": "dae8d700",
   "metadata": {
    "tags": [
     "skip"
    ]
   },
   "source": [
    "For tasks with idiosyncratic output formats or constraints, it is important to provide clear instructions as well as examples to guide the model in generating the desired output. Mechanically, we provide these pairs of inputs and outputs as a sequence of user and assistant messages after the system prompt.\n",
    "\n",
    "```python\n",
    "messages += [\n",
    "    {\n",
    "        \"role\": \"user\",\n",
    "        \"content\":  <fill in input example 1>\n",
    "    },\n",
    "    {\n",
    "        \"role\": \"assistant\",\n",
    "        \"content\": <fill in output example 1>\n",
    "    },\n",
    "    {\n",
    "        \"role\": \"user\",\n",
    "        \"content\": <fill in input example 2>\n",
    "    },\n",
    "    {\n",
    "        \"role\": \"assistant\",\n",
    "        \"content\": <fill in output example 2>\n",
    "    }\n",
    "]\n",
    "```"
   ]
  },
  {
   "cell_type": "markdown",
   "id": "13fc96d8",
   "metadata": {
    "tags": [
     "skip"
    ]
   },
   "source": [
    "In the GeneGPT code, the authors included several tasks, one of each of a subset of the tasks in the dataset. We will use the same examples here.\n",
    "\n",
    "Please inspect the GeneGPT repository to find the few-shot examples in the prompt. \n",
    "\n",
    "Specifically the `get_prompt_header` function in `main.py` located here: [main.py](https://github.com/ncbi/GeneGPT/blob/main/main.py)"
   ]
  },
  {
   "cell_type": "code",
   "execution_count": 24,
   "id": "fcb78ee2",
   "metadata": {},
   "outputs": [
    {
     "name": "stdout",
     "output_type": "stream",
     "text": [
      "The official gene symbol of **SNAT6** is **SLC38A6**.\n"
     ]
    }
   ],
   "source": [
    "response = client.chat.completions.create(\n",
    "    messages=[\n",
    "        { \"role\": \"system\",\"content\": \"You are a helpful assistant.\"},\n",
    "        {\"role\": \"user\",\"content\": \"What is the official gene symbol of LMP10?\",},\n",
    "        {\n",
    "            \"role\": \"assistant\",\n",
    "            \"content\": \"The official gene symbol of LMP10 is PSMB10.\",\n",
    "        },\n",
    "        {\n",
    "            \"role\": \"user\",\n",
    "            \"content\": \"What is the official gene symbol of SNAT6?\",\n",
    "        }\n",
    "    ],\n",
    "    max_tokens=800,  # fixed\n",
    "    temperature=1.0,\n",
    "    top_p=1.0,\n",
    "    frequency_penalty=0.0,\n",
    "    presence_penalty=0.0,\n",
    "    model=AZURE_OPENAI_DEPLOYMENT_NAME\n",
    ")\n",
    "\n",
    "print(response.choices[0].message.content)\n"
   ]
  },
  {
   "cell_type": "markdown",
   "id": "35d89761",
   "metadata": {},
   "source": [
    "### 4.4 Implementing the model request function"
   ]
  },
  {
   "cell_type": "markdown",
   "id": "4590511a",
   "metadata": {
    "tags": [
     "skip"
    ]
   },
   "source": [
    "Now we need to put it all together. We need a function that accepts as arguments:\n",
    "1. The client\n",
    "2. The system message\n",
    "3. The few-shot examples\n",
    "4. The new user query -- this case the user's question from the GeneTuring dataset.\n",
    "\n",
    "The function should return the response from the model and extract the answer (everything after 'Answer :' based on the format of the examples above)\n",
    "\n"
   ]
  },
  {
   "cell_type": "code",
   "execution_count": 44,
   "id": "8216c04c",
   "metadata": {},
   "outputs": [],
   "source": [
    "# 4.4 Implement THE model function\n",
    "\n",
    "def query_model(\n",
    "    client: AzureOpenAI, \n",
    "    system_message: dict, \n",
    "    few_shot_examples: List[dict], \n",
    "    user_query: str\n",
    ") -> str:\n",
    "    \"\"\"\n",
    "    Query the language model with few-shot examples and a user query.\n",
    "    Returns the extracted answer string.\n",
    "    \"\"\"\n",
    "\n",
    "    # Combine message components\n",
    "    messages = system_message + few_shot_examples + [{\"role\": \"user\", \"content\": user_query}]\n",
    "\n",
    "    # Call the model\n",
    "    response = client.chat.completions.create(\n",
    "        messages=messages,\n",
    "        max_tokens=800,  # correct param name\n",
    "        temperature=1.0,\n",
    "        top_p=1.0,\n",
    "        frequency_penalty=0.0,\n",
    "        presence_penalty=0.0,\n",
    "        model=AZURE_OPENAI_DEPLOYMENT_NAME\n",
    "    )\n",
    "\n",
    "    # Extract content\n",
    "    response_content = response.choices[0].message.content.strip()\n",
    "\n",
    "    # Try to extract the part after \"Answer:\" if present\n",
    "    if \"Answer:\" in response_content:\n",
    "        answer = response_content.split(\"Answer:\")[-1].strip()\n",
    "    else:\n",
    "        answer = response_content  # fallback\n",
    "\n",
    "    return answer"
   ]
  },
  {
   "cell_type": "markdown",
   "id": "3103ef75",
   "metadata": {},
   "source": [
    "## 5. Metrics"
   ]
  },
  {
   "cell_type": "markdown",
   "id": "79d88fd6",
   "metadata": {
    "tags": [
     "skip"
    ]
   },
   "source": [
    "The GeneTuring dataset has several task specific evaluation metrics that are variations on exact match depending on the expected cardinality of the output.\n",
    "\n",
    "Please inspect `evaluate.py` from the GeneGPT repository to find the metric functions and implement them here.\n",
    "\n",
    "Original functions: [evaluate.py](https://github.com/ncbi/GeneGPT/blob/main/evaluate.py)"
   ]
  },
  {
   "cell_type": "markdown",
   "id": "8cc440b3",
   "metadata": {
    "tags": [
     "skip"
    ]
   },
   "source": [
    "* **Default exact match** - The predicted answers and ground truth are both strings. The score is 1 if they are equal and 0 otherwise\n",
    "* **Gene disease association** - The predicted answers and ground truth are both lists of gene-disease associations. The score is the proportion of correct associations present in the prediction\n",
    "* **Disease gene location** - The predicted and true answers are lists (e.g., gene locations related to a disease), and the evaluation calculates the fraction of the correct items present in the prediction.\n",
    "* **Human genome DNA aligment** - 1 point for exact match, 0.5 point if chrX part matches, 0 otherwise"
   ]
  },
  {
   "cell_type": "code",
   "execution_count": 28,
   "id": "c575ab56",
   "metadata": {},
   "outputs": [],
   "source": [
    "# 5.1 Implement metrics\n",
    "\n",
    "def exact_match(pred: str, true: str) -> float:\n",
    "    pred = pred.lower().strip()\n",
    "    true = true.lower().strip()\n",
    "    return float(true in pred)\n",
    "\n",
    "def gene_disease_association(pred: List[str], true: List[str]) -> float:\n",
    "    pred_set = set(map(str.strip, pred))\n",
    "    true_set = set(map(str.strip, true))\n",
    "    if not true_set:\n",
    "        return 1.0 if not pred_set else 0.0\n",
    "    return len(pred_set & true_set) / len(true_set)\n",
    "\n",
    "def disease_gene_location(pred: List[str], true: List[str]) -> float:\n",
    "    pred_set = set(map(str.strip, pred))\n",
    "    true_set = set(map(str.strip, true))\n",
    "    if not true_set:\n",
    "        return 1.0 if not pred_set else 0.0\n",
    "    return len(pred_set & true_set) / len(true_set)\n",
    "\n",
    "def human_genome_dna_alignment(pred: str, true: str) -> float:\n",
    "    # Assuming the format 'chrX:position1-position2'\n",
    "    def extract_chromosome(s: str) -> str:\n",
    "        return s.strip().split(':')[0] if ':' in s else s.strip()\n",
    "\n",
    "    pred_chr = extract_chromosome(pred)\n",
    "    true_chr = extract_chromosome(true)\n",
    "    if pred_chr == true_chr:\n",
    "        return 0.5 if pred.strip() != true.strip() else 1.0\n",
    "    return 0.0\n",
    "\n",
    "metric_task_map = defaultdict(lambda: exact_match, {\n",
    "    \"gene_disease_association\": gene_disease_association,\n",
    "    \"disease_gene_location\": disease_gene_location,\n",
    "    \"human_genome_dna_alignment\": human_genome_dna_alignment\n",
    "})\n"
   ]
  },
  {
   "cell_type": "markdown",
   "id": "8d1ebe36",
   "metadata": {
    "tags": [
     "skip"
    ]
   },
   "source": [
    "Many of the gold-answers are in a specific format. `evaluate.py` also implements an answer post-processing function `get_answer` to better align model outputs with the gold answers. We also need to implement a similar function."
   ]
  },
  {
   "cell_type": "code",
   "execution_count": 29,
   "id": "6cca948d-dd1f-4b3e-9a20-3054fdc453a3",
   "metadata": {},
   "outputs": [],
   "source": [
    "import re\n",
    "\n",
    "def get_answer(answer: str, task: str) -> str:\n",
    "    answer = answer.strip()\n",
    "\n",
    "    if task in [\"Gene alias\", \"Gene location\", \"SNP location\"]:\n",
    "        # Extract last word that looks like a gene symbol (alphanumeric, all caps)\n",
    "        match = re.findall(r\"[A-Z0-9\\-]+\", answer)\n",
    "        if match:\n",
    "            return match[-1]  # Return last match (usually the actual symbol)\n",
    "        else:\n",
    "            return answer  # fallback\n",
    "\n",
    "    elif task == \"Gene disease association\" or task == \"Disease gene location\":\n",
    "        return answer.replace(\"Answer:\", \"\").strip().split(', ')\n",
    "\n",
    "    elif task == \"Protein-coding genes\":\n",
    "        val = answer.replace(\"Answer:\", \"\").strip()\n",
    "        return \"TRUE\" if val == \"Yes\" else \"NA\"\n",
    "\n",
    "    elif task == \"Multi-species DNA aligment\":\n",
    "        mapper = {\n",
    "            'Caenorhabditis elegans': 'worm',\n",
    "            'Homo sapiens': 'human',\n",
    "            'Danio rerio': 'zebrafish',\n",
    "            'Mus musculus': 'mouse',\n",
    "            'Saccharomyces cerevisiae': 'yeast',\n",
    "            'Rattus norvegicus': 'rat',\n",
    "            'Gallus gallus': 'chicken'\n",
    "        }\n",
    "        val = answer.replace(\"Answer:\", \"\").strip()\n",
    "        return mapper.get(val, val)\n",
    "\n",
    "    else:\n",
    "        return answer.replace(\"Answer:\", \"\").strip()\n"
   ]
  },
  {
   "cell_type": "code",
   "execution_count": 30,
   "id": "0bd36ebe",
   "metadata": {},
   "outputs": [],
   "source": [
    "# 5.2 Implement the answer mapping function \n",
    "def get_score(predictions: List[str], gold_answers: List[str], task: str) -> float:\n",
    "    \"\"\"\n",
    "    Compute average score for a given task based on model predictions and ground truths.\n",
    "    \"\"\"\n",
    "    assert len(predictions) == len(gold_answers), \"Mismatched number of predictions and ground truths.\"\n",
    "\n",
    "    correct = []\n",
    "\n",
    "    for pred, gold in zip(predictions, gold_answers):\n",
    "        pred_processed = get_answer(pred, task)\n",
    "        gold_processed = get_answer(gold, task)\n",
    "\n",
    "        # Get the appropriate metric function for this task\n",
    "        metric_fn = metric_task_map[task]\n",
    "        score = metric_fn(pred_processed, gold_processed)\n",
    "        correct.append(score)\n",
    "\n",
    "    return sum(correct) / len(correct) if correct else 0.0\n"
   ]
  },
  {
   "cell_type": "markdown",
   "id": "413e73a3",
   "metadata": {},
   "source": [
    "## 6. Evaluation Loop"
   ]
  },
  {
   "cell_type": "markdown",
   "id": "131aba90",
   "metadata": {
    "tags": [
     "skip"
    ]
   },
   "source": [
    "Now, let's implement the evaluation loop for the GeneTuring dataset. For now we will call the model function one at a time and collect the results in a list. Also, we will collect per-task metrics and the overall metrics for the dataset as we go. Once we're done, we will save the results to a CSV file."
   ]
  },
  {
   "cell_type": "code",
   "execution_count": 31,
   "id": "78868c8a",
   "metadata": {},
   "outputs": [],
   "source": [
    "# 6.1 Set up data structures for results\n",
    "\n",
    "@dataclass\n",
    "class Result:\n",
    "    id: int\n",
    "    task: str\n",
    "    question: str\n",
    "    answer: str\n",
    "    prediction : str\n",
    "    score: Optional[float]\n",
    "    success: bool\n",
    "\n",
    "def save_results(results: List[Result], results_csv_filename: str) -> None:\n",
    "    df = pd.DataFrame(results)\n",
    "    #df = pd.DataFrame([asdict(r) for r in results])\n",
    "    df.to_csv(results_csv_filename, index=False)\n"
   ]
  },
  {
   "cell_type": "code",
   "execution_count": 47,
   "id": "56608117",
   "metadata": {},
   "outputs": [],
   "source": [
    "# 6.2 Loop over the dataset with a progress bar\n",
    "\n",
    "# * Do not forget to add the results to our Result list, both successful and failed predictions\n",
    "# * API calls will not always work, so make sure we capture the exceptions from failed calls\n",
    "#    and add them to the Result list with a `status=False`\n",
    "\n",
    "def evaluate_dataset(df: pd.DataFrame, model_fn: Callable[[str], str]) -> (List[Result], dict, float):\n",
    "    results: List[Result] = []\n",
    "    task_scores = {}\n",
    "    task_counts = {}\n",
    "\n",
    "    for idx, row in tqdm(df.iterrows(), total=len(df)):\n",
    "        task = row[\"task\"]\n",
    "        question = row[\"question\"]\n",
    "        true_answer = row[\"answer\"]\n",
    "        \n",
    "        try:\n",
    "            # Call the model\n",
    "            raw_pred = model_fn(question)\n",
    "\n",
    "            # Post-process\n",
    "            pred = get_answer(raw_pred, task)\n",
    "            true = get_answer(true_answer, task)\n",
    "            # print(\"=\"*60)\n",
    "            # print(f\"[{task}]\")\n",
    "            # print(f\"Question: {question}\")\n",
    "            # print(f\" True Answer: {true}\")\n",
    "            # print(f\" Model Raw Output: {raw_pred}\")\n",
    "            # print(f\"Processed Prediction: {pred}\")\n",
    "            # Score it\n",
    "            metric_fn = metric_task_map[task]\n",
    "            score = metric_fn(pred, true)\n",
    "            success = True\n",
    "            #print(f\"[{task}] True: {true}, Pred: {pred}, Score: {score}\")\n",
    "        except Exception as e:\n",
    "            raw_pred = f\"[ERROR] {e}\"\n",
    "            score = 0.0\n",
    "            success = False\n",
    "\n",
    "        results.append(Result(\n",
    "            id=idx,\n",
    "            task=task,\n",
    "            question=question,\n",
    "            answer=true_answer,\n",
    "            prediction=raw_pred,\n",
    "            score=score,\n",
    "            success=success\n",
    "        ))\n",
    "\n",
    "        if success:\n",
    "            task_scores[task] = task_scores.get(task, 0.0) + score\n",
    "            task_counts[task] = task_counts.get(task, 0) + 1\n",
    "        \n",
    "    # Compute average score per task\n",
    "    for task in task_scores:\n",
    "        task_scores[task] /= task_counts[task]\n",
    "\n",
    "    # Compute overall average score\n",
    "    overall_score = sum(task_scores.values()) / len(task_scores) if task_scores else 0.0\n",
    "\n",
    "    return results, task_scores, overall_score\n",
    "\n"
   ]
  },
  {
   "cell_type": "code",
   "execution_count": null,
   "id": "5439ea4b-294b-49df-9c64-bf62c1d06a60",
   "metadata": {},
   "outputs": [],
   "source": []
  },
  {
   "cell_type": "code",
   "execution_count": 31,
   "id": "6cc013b9",
   "metadata": {},
   "outputs": [],
   "source": [
    "# 6.3 Save the results"
   ]
  },
  {
   "cell_type": "code",
   "execution_count": 48,
   "id": "5b4b682d-12ff-452c-8de9-b78cd894ac6a",
   "metadata": {
    "scrolled": true
   },
   "outputs": [
    {
     "name": "stderr",
     "output_type": "stream",
     "text": [
      "100%|██████████████████████████████████████| 450/450 [04:51<00:00,  1.54it/s]"
     ]
    },
    {
     "name": "stdout",
     "output_type": "stream",
     "text": [
      "Overall Score: 0.215\n"
     ]
    },
    {
     "name": "stderr",
     "output_type": "stream",
     "text": [
      "\n"
     ]
    }
   ],
   "source": [
    "# Dummy model for testing\n",
    "def model_fn(question: str) -> str:\n",
    "    return query_model(client, system_message, [], question)\n",
    "#subset_df = df.head(20)  # First 20 rows only\n",
    "results, task_scores, overall = evaluate_dataset(df, model_fn)\n",
    "save_results(results, \"gene_turing_results.csv\")\n",
    "\n",
    "\n",
    "print(f\"Overall Score: {overall:.3f}\")\n"
   ]
  },
  {
   "cell_type": "markdown",
   "id": "76dab8dd",
   "metadata": {},
   "source": [
    "## 7. Analysis"
   ]
  },
  {
   "cell_type": "markdown",
   "id": "afe4efaa",
   "metadata": {
    "tags": [
     "skip"
    ]
   },
   "source": [
    "Now that we have collected the first round of GeneTuring results, let's analyze them. Let's start by calculating what fraction of predictions were successful."
   ]
  },
  {
   "cell_type": "code",
   "execution_count": 53,
   "id": "dcca4f6d",
   "metadata": {},
   "outputs": [
    {
     "name": "stdout",
     "output_type": "stream",
     "text": [
      "Fraction of successful predictions: 19.11%\n"
     ]
    }
   ],
   "source": [
    "# 7.1 Calculate the fraction of successful predictions\n",
    "results_df = pd.DataFrame(results)\n",
    "fraction_successful = results_df['score'].mean()\n",
    "print(f\"Fraction of successful predictions: {fraction_successful:.2%}\")\n"
   ]
  },
  {
   "cell_type": "markdown",
   "id": "b46a3607",
   "metadata": {
    "tags": [
     "skip"
    ]
   },
   "source": [
    "Now let's calculate both the overall score as well as the score by task."
   ]
  },
  {
   "cell_type": "code",
   "execution_count": 54,
   "id": "a3f7c69f",
   "metadata": {},
   "outputs": [
    {
     "name": "stdout",
     "output_type": "stream",
     "text": [
      " Overall score: 0.215\n",
      " Scores by task:\n",
      "  - Gene alias: 0.180\n",
      "  - Gene location: 0.380\n",
      "  - Human genome DNA aligment: 0.000\n",
      "  - Multi-species DNA aligment: 0.140\n",
      "  - Gene name conversion: 0.000\n",
      "  - Protein-coding genes: 1.000\n",
      "  - Gene SNP association: 0.000\n",
      "  - SNP location: 0.020\n"
     ]
    }
   ],
   "source": [
    "# 7.2 Calculate the overall score and the score by task\n",
    "print(f\" Overall score: {overall:.3f}\")\n",
    "print(\" Scores by task:\")\n",
    "for task, score in task_scores.items():\n",
    "    print(f\"  - {task}: {score:.3f}\")"
   ]
  },
  {
   "cell_type": "markdown",
   "id": "e2fc369e",
   "metadata": {
    "tags": [
     "skip"
    ]
   },
   "source": [
    "Then, let's create a bar chart of the scores by task with a horizontal line for the overall score. Let's save the figure as well to our output directory."
   ]
  },
  {
   "cell_type": "code",
   "execution_count": 55,
   "id": "222356e5",
   "metadata": {},
   "outputs": [
    {
     "data": {
      "image/png": "[encoded data removed]",
      "text/plain": [
       "<Figure size 1000x500 with 1 Axes>"
      ]
     },
     "metadata": {},
     "output_type": "display_data"
    }
   ],
   "source": [
    "# 7.3 Create a bar chart of the scores by task with a horizontal line for the overall score\n",
    "import matplotlib.pyplot as plt\n",
    "\n",
    "# Sort tasks by name\n",
    "sorted_tasks = sorted(task_scores.keys())\n",
    "scores = [task_scores[task] for task in sorted_tasks]\n",
    "\n",
    "plt.figure(figsize=(10, 5))\n",
    "plt.bar(sorted_tasks, scores)\n",
    "plt.axhline(y=overall, color='red', linestyle='--', label=f'Overall Score = {overall:.2f}')\n",
    "plt.xticks(rotation=45, ha='right')\n",
    "plt.ylabel('Score')\n",
    "plt.title('Scores by Task')\n",
    "plt.legend()\n",
    "plt.tight_layout()\n",
    "plt.show()\n"
   ]
  }
 ],
 "metadata": {
  "kernelspec": {
   "display_name": "Python 3 (ipykernel)",
   "language": "python",
   "name": "python3"
  },
  "language_info": {
   "codemirror_mode": {
    "name": "ipython",
    "version": 3
   },
   "file_extension": ".py",
   "mimetype": "text/x-python",
   "name": "python",
   "nbconvert_exporter": "python",
   "pygments_lexer": "ipython3",
   "version": "3.12.10"
  }
 },
 "nbformat": 4,
 "nbformat_minor": 5
}
